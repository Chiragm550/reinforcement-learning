{
 "cells": [
  {
   "cell_type": "code",
   "execution_count": 1,
   "metadata": {},
   "outputs": [],
   "source": [
    "import numpy as np\n",
    "from PIL import Image\n",
    "import matplotlib.pyplot as plt\n",
    "import time\n",
    "import pickle\n",
    "import cv2\n",
    "from matplotlib import style"
   ]
  },
  {
   "cell_type": "code",
   "execution_count": 2,
   "metadata": {},
   "outputs": [],
   "source": [
    "style.use(\"ggplot\")"
   ]
  },
  {
   "cell_type": "code",
   "execution_count": 3,
   "metadata": {},
   "outputs": [],
   "source": [
    "SIZE = 10\n",
    "EPISODES = 25000\n",
    "MOVE_PENALTY = 1\n",
    "ENEMY_PENALTY = 300     #hitting enemy\n",
    "FOOD_REWARD = 25\n",
    "DECAY_RATE = 0.998\n",
    "LEARNING_RATE = 0.1\n",
    "DISCOUNT = 0.95\n",
    "\n",
    "epsilon = 0.9\n",
    "\n",
    "q_table = None\n",
    "\n",
    "PLAYER_N = 1\n",
    "FOOD_N = 2\n",
    "ENEMY_N = 3\n",
    "\n",
    "d = {\n",
    "    1: (255, 175, 0),\n",
    "    2: (0, 255, 0),\n",
    "    3: (0, 0, 255)\n",
    "}                  # color of player_n, food_n, enemy_n "
   ]
  },
  {
   "cell_type": "code",
   "execution_count": 4,
   "metadata": {},
   "outputs": [],
   "source": [
    "class Blob:\n",
    "    def __init__(self):\n",
    "        # blob's location\n",
    "        self.x = np.random.randint(0, SIZE)\n",
    "        self.y = np.random.randint(0, SIZE)\n",
    "    \n",
    "    def __str__(self):\n",
    "        return f\"{self.x}, {self.y}\"\n",
    "    \n",
    "    def __sub__(self, other):\n",
    "        return (self.x - other.x, self.y - other.y)\n",
    "    \n",
    "    def __eq__(self, other):\n",
    "        return (self.x == other.x and self.y == other.y)\n",
    "    \n",
    "    def action(self, choice):\n",
    "        if choice == 0:\n",
    "            self.move(x=1, y=1)\n",
    "        elif choice == 1:\n",
    "            self.move(x=-1, y=-1)\n",
    "        elif choice == 2:\n",
    "            self.move(x=-1, y=1)\n",
    "        elif choice == 3:\n",
    "            self.move(x=1, y=-1)\n",
    "\n",
    "    def move(self, x=False, y=False):\n",
    "        if not x:\n",
    "            self.x = np.random.randint(-1, 2)\n",
    "        else:\n",
    "            self.x += x\n",
    "\n",
    "        if not y:\n",
    "            self.y = np.random.randint(-1, 2)\n",
    "        else:\n",
    "            self.y += y\n",
    "\n",
    "        self.x = max(0, min(self.x, SIZE-1))\n",
    "        self.y = max(0, min(self.y, SIZE-1))"
   ]
  },
  {
   "cell_type": "code",
   "execution_count": 5,
   "metadata": {},
   "outputs": [],
   "source": [
    "# state space => ((x1, y1),(x2, y2)) 1st coords -> delta of player and food. 2nd coords delta of player and enemy\n",
    "\n",
    "start_q_table = '<filename>'\n",
    "\n",
    "if q_table is None:\n",
    "    q_table = {}\n",
    "    for x1 in range(-SIZE+1, SIZE):\n",
    "        for y1 in range(-SIZE+1, SIZE):\n",
    "            for x2 in range(-SIZE+1, SIZE):\n",
    "                for y2 in range(-SIZE+1, SIZE):\n",
    "                    q_table[((x1,y1),(x2, y2))] = [np.random.uniform(-3,0) for _ in range(4)]\n",
    "\n",
    "else:\n",
    "    with open(start_q_table, 'rb') as f:\n",
    "        q_table = pickle.load(f)"
   ]
  },
  {
   "cell_type": "code",
   "execution_count": 6,
   "metadata": {},
   "outputs": [
    {
     "data": {
      "text/plain": [
       "[-0.8812321119037074,\n",
       " -2.558076760866161,\n",
       " -2.2477099604133346,\n",
       " -1.4304378213234172]"
      ]
     },
     "execution_count": 6,
     "metadata": {},
     "output_type": "execute_result"
    }
   ],
   "source": [
    "q_table[(-9,-9), (-9,-9)]   "
   ]
  },
  {
   "cell_type": "code",
   "execution_count": 7,
   "metadata": {},
   "outputs": [
    {
     "name": "stdout",
     "output_type": "stream",
     "text": [
      "on 0, 0.9\n",
      "Episode mean nan\n"
     ]
    },
    {
     "name": "stderr",
     "output_type": "stream",
     "text": [
      "d:\\python for data science\\rl\\rl-env-scratch\\.venv\\lib\\site-packages\\numpy\\_core\\fromnumeric.py:3904: RuntimeWarning: Mean of empty slice.\n",
      "  return _methods._mean(a, axis=axis, dtype=dtype,\n",
      "d:\\python for data science\\rl\\rl-env-scratch\\.venv\\lib\\site-packages\\numpy\\_core\\_methods.py:147: RuntimeWarning: invalid value encountered in scalar divide\n",
      "  ret = ret.dtype.type(ret / rcount)\n"
     ]
    },
    {
     "name": "stdout",
     "output_type": "stream",
     "text": [
      "on 3000, 0.0022175140060036905\n",
      "Episode mean -156.94\n",
      "on 6000, 5.463742629802828e-06\n",
      "Episode mean -93.77566666666667\n",
      "on 9000, 1.3462139785319096e-08\n",
      "Episode mean -69.18766666666667\n",
      "on 12000, 3.316942613858276e-11\n",
      "Episode mean -54.458666666666666\n",
      "on 15000, 8.172629670379144e-14\n",
      "Episode mean -41.25033333333333\n",
      "on 18000, 2.0136578622163367e-16\n",
      "Episode mean -36.461\n",
      "on 21000, 4.96146056973797e-19\n",
      "Episode mean -31.386333333333333\n",
      "on 24000, 1.222456478180995e-21\n",
      "Episode mean -24.607333333333333\n"
     ]
    }
   ],
   "source": [
    "episode_rewards = []\n",
    "\n",
    "for episode in range(EPISODES):\n",
    "    player = Blob()\n",
    "    food = Blob()\n",
    "    enemy = Blob()\n",
    "\n",
    "    if episode % 3000 == 0:\n",
    "        print(f'on {episode}, {epsilon}')\n",
    "        print(f\"Episode mean {np.mean(episode_rewards[-3000:])}\")\n",
    "        show = True\n",
    "    else:\n",
    "        show = False\n",
    "\n",
    "    rewards_per_episode = 0\n",
    "    for i in range(200):\n",
    "        rewards = 0\n",
    "        state = (player-food, player-enemy)\n",
    "\n",
    "        if np.random.random() > epsilon:\n",
    "            action = np.argmax(q_table[state])\n",
    "        else:\n",
    "            action = np.random.randint(0,4)\n",
    "\n",
    "        player.action(action)\n",
    "\n",
    "        # TODO Train enemy to catch player\n",
    "\n",
    "        if player == enemy:\n",
    "            rewards = -ENEMY_PENALTY\n",
    "        elif player == food:\n",
    "            rewards = FOOD_REWARD\n",
    "        else:\n",
    "            rewards = -MOVE_PENALTY\n",
    "\n",
    "        new_state = (player-food, player-enemy)\n",
    "\n",
    "        q_table[state][action] = (1-LEARNING_RATE)*q_table[state][action] + LEARNING_RATE*(rewards + DISCOUNT*np.max(q_table[new_state]))\n",
    "\n",
    "        if show:\n",
    "            env = np.zeros((SIZE,SIZE, 3), dtype=np.uint8)\n",
    "            env[food.y][food.x] = d[FOOD_N]\n",
    "            env[player.y][player.x] = d[PLAYER_N]\n",
    "            env[enemy.y][enemy.x] = d[ENEMY_N]\n",
    "\n",
    "            img = Image.fromarray(env, \"RGB\")\n",
    "            img = img.resize((300,300))\n",
    "            cv2.imshow(\"\",np.array(img))\n",
    "            if rewards == FOOD_REWARD or rewards == -ENEMY_PENALTY:\n",
    "                if cv2.waitKey(500) & 0xFF == ord('q'):\n",
    "                    break\n",
    "            else:\n",
    "                if cv2.waitKey(100) & 0xFF == ord('q'):\n",
    "                    break\n",
    "        \n",
    "        rewards_per_episode += rewards\n",
    "        if rewards == FOOD_REWARD or rewards == -ENEMY_PENALTY:\n",
    "            break\n",
    "        \n",
    "    episode_rewards.append(rewards_per_episode)\n",
    "    epsilon *= DECAY_RATE\n",
    "\n",
    "cv2.destroyAllWindows()"
   ]
  },
  {
   "cell_type": "code",
   "execution_count": 9,
   "metadata": {},
   "outputs": [],
   "source": [
    "with open('q-table.txt', 'wb') as f:\n",
    "    pickle.dump(q_table, f)"
   ]
  },
  {
   "cell_type": "code",
   "execution_count": null,
   "metadata": {},
   "outputs": [],
   "source": []
  }
 ],
 "metadata": {
  "kernelspec": {
   "display_name": ".venv",
   "language": "python",
   "name": "python3"
  },
  "language_info": {
   "codemirror_mode": {
    "name": "ipython",
    "version": 3
   },
   "file_extension": ".py",
   "mimetype": "text/x-python",
   "name": "python",
   "nbconvert_exporter": "python",
   "pygments_lexer": "ipython3",
   "version": "3.10.8"
  }
 },
 "nbformat": 4,
 "nbformat_minor": 2
}
